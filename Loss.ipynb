{
 "cells": [
  {
   "cell_type": "code",
   "execution_count": 1,
   "metadata": {},
   "outputs": [],
   "source": [
    "#export\n",
    "import gc\n",
    "from functools import partial\n",
    "from torch import nn\n",
    "import torch\n",
    "from torchvision.models import vgg19_bn\n",
    "vgg = vgg19_bn(True).features.cuda().eval()\n",
    "blocks = [i for i,m in enumerate(vgg) if isinstance(m, nn.ReLU)]\n",
    "blocks = [blocks[i] for i in range(0,len(blocks),2)]\n",
    "blocks = blocks[:3]\n",
    "\n",
    "class Hook():\n",
    "    def __init__(self,m,f): self.hook = m.register_forward_hook(partial(f,self))\n",
    "    def remove(self):\n",
    "        self.hook.remove()\n",
    "        del self.o\n",
    "        gc.collect()\n",
    "    def __del__(self): del self.hook,self.o\n",
    "\n",
    "def hook_ouptut(hook,mod,inp,out):\n",
    "    if not hasattr(hook,'o'): hook.o = None\n",
    "    hook.o = out.detach()\n",
    "\n",
    "class Feature_loss():\n",
    "    def __init__(self,model,blocks,func):\n",
    "        self.m = model\n",
    "        self.b = blocks\n",
    "        self.f = func\n",
    "        self.hooks = [Hook(self.m[i],self.f) for i in self.b]\n",
    "\n",
    "    def __call__(self,pred,targ):\n",
    "        pred_features = self.make_features(pred)\n",
    "        targ_features = self.make_features(targ)\n",
    "        self._remove()\n",
    "        loss_list = [self.one_layer_loss(pred_features[i], targ_features[i]) for i in range(len(pred_features))]\n",
    "        return sum(loss_list)\n",
    "\n",
    "\n",
    "    def make_features(self,x):\n",
    "        self.m(x)\n",
    "        l = [i.o for i in self.hooks]\n",
    "        return l\n",
    "\n",
    "    def one_layer_loss(self,pf,tf):\n",
    "#         pf,tf = pf.cuda(),tf.cuda()\n",
    "        a = pf[0].numel()\n",
    "        err = ((pf - tf)**2).sum(dim = [1,2,3])\n",
    "        return err/(2*a)\n",
    "\n",
    "    def _remove(self):\n",
    "        for i in self.hooks: del i.o\n",
    "\n",
    "    def __del__(self):\n",
    "        for i in self.hooks:\n",
    "            i.remove()\n",
    "\n",
    "class Total_loss():\n",
    "    def __init__(self,blocks,alpha = 1,beta = 0.5,r = 10000, attr = 'enc',perceptual_model = vgg,func = hook_ouptut):\n",
    "        self.r = r\n",
    "        self.a = attr\n",
    "        self.kloss = 0.\n",
    "        self.ploss_func = Feature_loss(perceptual_model,blocks,func)\n",
    "        self.al,self.be = alpha,beta\n",
    "\n",
    "    def __call__(self,model,pred,targ):\n",
    "        self.kloss = self.kl_loss(model,self.a)\n",
    "        self.ploss = self.ploss_func(pred,targ).sum()\n",
    "        return self.al*self.kloss + self.be*self.ploss\n",
    "\n",
    "    def kl_loss(self,m,attr):\n",
    "        e = getattr(m,attr)\n",
    "        return (-0.5*torch.sum(1 + e.log_var - torch.pow(e.mean,2) - torch.exp(e.log_var), axis = 1)).mean()"
   ]
  },
  {
   "cell_type": "code",
   "execution_count": 3,
   "metadata": {},
   "outputs": [
    {
     "name": "stdout",
     "output_type": "stream",
     "text": [
      "Converted Loss.ipynb to exp\\nb_Loss.py\n"
     ]
    }
   ],
   "source": [
    "!python notebook2script.py Loss.ipynb\n"
   ]
  }
 ],
 "metadata": {
  "kernelspec": {
   "display_name": "Python 3",
   "language": "python",
   "name": "python3"
  },
  "language_info": {
   "codemirror_mode": {
    "name": "ipython",
    "version": 3
   },
   "file_extension": ".py",
   "mimetype": "text/x-python",
   "name": "python",
   "nbconvert_exporter": "python",
   "pygments_lexer": "ipython3",
   "version": "3.7.4"
  }
 },
 "nbformat": 4,
 "nbformat_minor": 2
}
